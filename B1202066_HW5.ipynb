{
  "nbformat": 4,
  "nbformat_minor": 0,
  "metadata": {
    "colab": {
      "provenance": []
    },
    "kernelspec": {
      "name": "python3",
      "display_name": "Python 3"
    },
    "language_info": {
      "name": "python"
    }
  },
  "cells": [
    {
      "cell_type": "code",
      "execution_count": null,
      "metadata": {
        "colab": {
          "base_uri": "https://localhost:8080/"
        },
        "id": "o_SJ1pIZgwYw",
        "outputId": "24a6c470-d7fa-4afa-9ade-668d1a01a363"
      },
      "outputs": [
        {
          "output_type": "stream",
          "name": "stdout",
          "text": [
            "         *\n",
            "        ***\n",
            "       *****\n",
            "      *******\n",
            "     *********\n",
            "    ***********\n",
            "   *************\n",
            "  ***************\n",
            " *****************\n",
            "        ***\n",
            "        ***\n",
            "        ***\n",
            "        ***\n",
            "        ***\n"
          ]
        }
      ],
      "source": [
        "h=9\n",
        "w=1\n",
        "for i in range(h):\n",
        "  print((' '*(h-i))+('*'*w))\n",
        "  w+=2\n",
        "for j in range(5):\n",
        "  print((' '*(h-1))+('*'*3))\n",
        "\n"
      ]
    },
    {
      "cell_type": "code",
      "source": [
        "import random\n",
        "ans=random.sample(range(1,10),4)\n",
        "print('答案',ans)\n",
        "a=b=p=0\n",
        "while a!=4:\n",
        "  k=list(input('輸入四個數字'))\n",
        "  if len(k)>4:\n",
        "    print('輸入數字太多,請重新輸入四個數字')\n",
        "  elif len(k)<4:\n",
        "    print('輸入數字太少,請重新輸入四個數字')\n",
        "  else:\n",
        "    a=b=0\n",
        "    p=p+1\n",
        "    for i in range(0,4):\n",
        "      for j in range(0,4):\n",
        "        if int(k[i])==ans[j]:\n",
        "          if i==j:\n",
        "            a=a+1\n",
        "          else:\n",
        "            b=b+1\n",
        "  print(a,'a',b,'b')\n",
        "print('答對了,你猜了',p,'次')"
      ],
      "metadata": {
        "colab": {
          "base_uri": "https://localhost:8080/"
        },
        "id": "y1Z8nVfOkFHI",
        "outputId": "5c3e86d3-8aa5-496d-d3f4-49ec5e3fca90"
      },
      "execution_count": null,
      "outputs": [
        {
          "output_type": "stream",
          "name": "stdout",
          "text": [
            "答案 [9, 2, 7, 1]\n",
            "輸入四個數字12345\n",
            "輸入數字太多,請重新輸入四個數字\n",
            "0 a 0 b\n",
            "輸入四個數字1235\n",
            "1 a 1 b\n",
            "輸入四個數字3245\n",
            "1 a 0 b\n",
            "輸入四個數字7218\n",
            "1 a 2 b\n",
            "輸入四個數字9381\n",
            "2 a 0 b\n",
            "輸入四個數字9281\n",
            "3 a 0 b\n",
            "輸入四個數字9271\n",
            "4 a 0 b\n",
            "答對了,你猜了 6 次\n"
          ]
        }
      ]
    }
  ]
}